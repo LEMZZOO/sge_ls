{
 "cells": [
  {
   "cell_type": "markdown",
   "id": "f2118549-1396-4d48-a227-4856e9ef68bb",
   "metadata": {},
   "source": [
    "Ordenando elementos: Mostrar los nombres ordenados alfabéticamente en orden inverso."
   ]
  },
  {
   "cell_type": "code",
   "execution_count": 5,
   "id": "5ca1d038-fb54-4857-bdc0-11ae4abde6c0",
   "metadata": {},
   "outputs": [
    {
     "name": "stdout",
     "output_type": "stream",
     "text": [
      "['Adela', 'Adrián', 'Agustín', 'Ainhoa', 'Alberto', 'Alejandra', 'Alejandro', 'Alfonso', 'Alfredo', 'Alicia', 'Amalia', 'Amparo', 'Ana', 'Andrea', 'Andrés', 'Antonio', 'Aníbal', 'Araceli', 'Ariadna', 'Baltasar', 'Beatriz', 'Belén', 'Berta', 'Blanca', 'Braulio', 'Candela', 'Carla', 'Carlos', 'Carmen', 'Carolina', 'Celia', 'Claudia', 'Consuelo', 'Cristina', 'Cristina', 'César', 'Daniel', 'Daniela', 'David', 'Diego', 'Dolores', 'Eduardo', 'Elena', 'Elisa', 'Elsa', 'Emilia', 'Emilio', 'Enrique', 'Esperanza', 'Esteban', 'Esther', 'Eugenio', 'Eva', 'Fabián', 'Fausto', 'Federico', 'Fernando', 'Francisco', 'Fátima', 'Félix', 'Gabriela', 'Gema', 'Gemma', 'Gloria', 'Gonzalo', 'Gregorio', 'Guillermo', 'Hugo', 'Humberto', 'Héctor', 'Inmaculada', 'Inés', 'Irene', 'Isabel', 'Ismael', 'Iván', 'Javier', 'Jesús', 'Joaquín', 'Joaquín', 'Jorge', 'Juan', 'Julia', 'Julio', 'Julián', 'Laura', 'Leandro', 'Lidia', 'Lorena', 'Lourdes', 'Lucía', 'Luis', 'Manuel', 'Manuela', 'Marcelo', 'Marcos', 'Marcos', 'Mariano', 'Marina', 'Mario', 'Marta', 'María', 'Mercedes', 'Miguel', 'Milagros', 'Miriam', 'Mónica', 'Natalia', 'Nicolás', 'Noelia', 'Nuria', 'Olga', 'Pablo', 'Patricia', 'Paula', 'Pedro', 'Pilar', 'Rafael', 'Ramón', 'Raquel', 'Raúl', 'Ricardo', 'Roberto', 'Rocío', 'Rosa', 'Rubén', 'Salvador', 'Santiago', 'Sara', 'Sebastián', 'Sergio', 'Silvia', 'Sofía', 'Tamara', 'Teresa', 'Tomás', 'Valentín', 'Verónica', 'Vicente', 'Victoria', 'Víctor', 'Álex', 'Álvaro', 'Ángel', 'Ángela', 'Óscar']\n"
     ]
    }
   ],
   "source": [
    "nombres = [\n",
    "    \"Alejandro\", \"María\", \"Javier\", \"Lucía\", \"Carlos\", \"Sofía\", \"Miguel\", \"Ana\", \"Manuel\", \"Isabel\", \"Pedro\", \"Carmen\", \"Jorge\", \"Elena\", \"Juan\", \"Laura\", \"Antonio\", \"Patricia\", \"David\", \"Claudia\", \"Francisco\", \"Marta\", \"Sergio\", \"Teresa\", \"Luis\", \"Raquel\", \"Andrés\", \"Paula\", \"Daniel\", \"Verónica\", \"Fernando\", \"Sara\", \"Pablo\", \"Irene\", \"Álvaro\", \"Natalia\", \"Hugo\", \"Eva\", \"Diego\", \"Cristina\", \"Jesús\", \"Rosa\", \"Roberto\", \"Alicia\", \"Ángel\", \"Beatriz\", \"Ricardo\", \"Julia\", \"Adrián\", \"Silvia\", \"Alberto\", \"Victoria\", \"Raúl\", \"Pilar\", \"Ramón\", \"Lidia\", \"Óscar\", \"Ariadna\", \"Gonzalo\", \"Mónica\", \"Rubén\", \"Esther\", \"Santiago\", \"Nuria\", \"Iván\", \"Ainhoa\", \"Eduardo\", \"Berta\", \"Marcos\", \"Noelia\", \"Enrique\", \"Elisa\", \"Emilio\", \"Fátima\", \"Vicente\", \"Gabriela\", \"Mario\", \"Olga\", \"Rafael\", \"Lorena\", \"Mariano\", \"Cristina\", \"Eugenio\", \"Mercedes\", \"Félix\", \"Amparo\", \"Sebastián\", \"Rocío\", \"Alfredo\", \"Esperanza\", \"Álex\", \"Celia\", \"Héctor\", \"Andrea\", \"Tomás\", \"Inés\", \"Marcelo\", \"Gloria\", \"Marina\", \"Belén\", \"Valentín\", \"Miriam\", \"Guillermo\", \"Ángela\", \"Joaquín\", \"Gemma\", \"Fabián\", \"Daniela\", \"Víctor\", \"Dolores\", \"Marcos\", \"Tamara\", \"Braulio\", \"Lourdes\", \"Federico\", \"Gema\", \"Julián\", \"Nicolás\", \"Leandro\", \"Manuela\", \"Agustín\", \"Elsa\", \"Julio\", \"Consuelo\", \"Ismael\", \"Alejandra\", \"Joaquín\", \"Milagros\", \"Gregorio\", \"Inmaculada\", \"Salvador\", \"Carla\", \"Esteban\", \"Carolina\", \"Fausto\", \"Emilia\", \"Alfonso\", \"Amalia\", \"Baltasar\", \"Adela\", \"Humberto\", \"Blanca\", \"Aníbal\", \"Araceli\", \"César\", \"Candela\"\n",
    "]\n",
    "nombres.sort()\n",
    "print(nombres)"
   ]
  },
  {
   "cell_type": "markdown",
   "id": "21f8b548-c783-4797-9692-e2411f308998",
   "metadata": {},
   "source": [
    "Contando elementos: Contar el número de nombres que comienzan con la letra a"
   ]
  },
  {
   "cell_type": "code",
   "execution_count": 4,
   "id": "3a9e3b52-3447-4b7a-9279-f281f88e643a",
   "metadata": {},
   "outputs": [
    {
     "name": "stdout",
     "output_type": "stream",
     "text": [
      "hay 19 nombres que comienzan por A\n"
     ]
    }
   ],
   "source": [
    "nombres = [\n",
    "    \"Alejandro\", \"María\", \"Javier\", \"Lucía\", \"Carlos\", \"Sofía\", \"Miguel\", \"Ana\", \"Manuel\", \"Isabel\", \"Pedro\", \"Carmen\", \"Jorge\", \"Elena\", \"Juan\", \"Laura\", \"Antonio\", \"Patricia\", \"David\", \"Claudia\", \"Francisco\", \"Marta\", \"Sergio\", \"Teresa\", \"Luis\", \"Raquel\", \"Andrés\", \"Paula\", \"Daniel\", \"Verónica\", \"Fernando\", \"Sara\", \"Pablo\", \"Irene\", \"Álvaro\", \"Natalia\", \"Hugo\", \"Eva\", \"Diego\", \"Cristina\", \"Jesús\", \"Rosa\", \"Roberto\", \"Alicia\", \"Ángel\", \"Beatriz\", \"Ricardo\", \"Julia\", \"Adrián\", \"Silvia\", \"Alberto\", \"Victoria\", \"Raúl\", \"Pilar\", \"Ramón\", \"Lidia\", \"Óscar\", \"Ariadna\", \"Gonzalo\", \"Mónica\", \"Rubén\", \"Esther\", \"Santiago\", \"Nuria\", \"Iván\", \"Ainhoa\", \"Eduardo\", \"Berta\", \"Marcos\", \"Noelia\", \"Enrique\", \"Elisa\", \"Emilio\", \"Fátima\", \"Vicente\", \"Gabriela\", \"Mario\", \"Olga\", \"Rafael\", \"Lorena\", \"Mariano\", \"Cristina\", \"Eugenio\", \"Mercedes\", \"Félix\", \"Amparo\", \"Sebastián\", \"Rocío\", \"Alfredo\", \"Esperanza\", \"Álex\", \"Celia\", \"Héctor\", \"Andrea\", \"Tomás\", \"Inés\", \"Marcelo\", \"Gloria\", \"Marina\", \"Belén\", \"Valentín\", \"Miriam\", \"Guillermo\", \"Ángela\", \"Joaquín\", \"Gemma\", \"Fabián\", \"Daniela\", \"Víctor\", \"Dolores\", \"Marcos\", \"Tamara\", \"Braulio\", \"Lourdes\", \"Federico\", \"Gema\", \"Julián\", \"Nicolás\", \"Leandro\", \"Manuela\", \"Agustín\", \"Elsa\", \"Julio\", \"Consuelo\", \"Ismael\", \"Alejandra\", \"Joaquín\", \"Milagros\", \"Gregorio\", \"Inmaculada\", \"Salvador\", \"Carla\", \"Esteban\", \"Carolina\", \"Fausto\", \"Emilia\", \"Alfonso\", \"Amalia\", \"Baltasar\", \"Adela\", \"Humberto\", \"Blanca\", \"Aníbal\", \"Araceli\", \"César\", \"Candela\"\n",
    "]\n",
    "contador = 0\n",
    "for i in nombres:\n",
    "    if (i[0].lower() == \"a\"):\n",
    "        contador += 1\n",
    "print(f\"hay {contador} nombres que comienzan por A\")"
   ]
  },
  {
   "cell_type": "markdown",
   "id": "e25f483b-d4b5-421c-9386-d96841979f91",
   "metadata": {},
   "source": [
    "Buscar un elementos: Pregunte al usuario su nombre y le indique si está en la lista, y en caso afirmativo, en qué posición está."
   ]
  },
  {
   "cell_type": "code",
   "execution_count": 22,
   "id": "a5368463-d331-4519-a9a2-32ca063850a5",
   "metadata": {},
   "outputs": [
    {
     "name": "stdin",
     "output_type": "stream",
     "text": [
      "introduce tu nombre:  Javier\n"
     ]
    },
    {
     "name": "stdout",
     "output_type": "stream",
     "text": [
      "Tu nombre ya existe en la lista, en la posicion 2\n"
     ]
    }
   ],
   "source": [
    "nombres = [\"Alejandro\", \"María\", \"Javier\", \"Lucía\", \"Carlos\", \"Sofía\", \"Miguel\", \"Ana\", \"Manuel\", \"Isabel\", \"Pedro\", \"Carmen\", \"Jorge\", \"Elena\", \"Juan\", \"Laura\", \"Antonio\", \"Patricia\", \"David\", \"Claudia\", \"Francisco\", \"Marta\", \"Sergio\", \"Teresa\", \"Luis\", \"Raquel\", \"Andrés\", \"Paula\", \"Daniel\", \"Verónica\", \"Fernando\", \"Sara\", \"Pablo\", \"Irene\", \"Álvaro\", \"Natalia\", \"Hugo\", \"Eva\", \"Diego\", \"Cristina\", \"Jesús\", \"Rosa\", \"Roberto\", \"Alicia\", \"Ángel\", \"Beatriz\", \"Ricardo\", \"Julia\", \"Adrián\", \"Silvia\", \"Alberto\", \"Victoria\", \"Raúl\", \"Pilar\", \"Ramón\", \"Lidia\", \"Óscar\", \"Ariadna\", \"Gonzalo\", \"Mónica\", \"Rubén\", \"Esther\", \"Santiago\", \"Nuria\", \"Iván\", \"Ainhoa\", \"Eduardo\", \"Berta\", \"Marcos\", \"Noelia\", \"Enrique\", \"Elisa\", \"Emilio\", \"Fátima\", \"Vicente\", \"Gabriela\", \"Mario\", \"Olga\", \"Rafael\", \"Lorena\", \"Mariano\", \"Cristina\", \"Eugenio\", \"Mercedes\", \"Félix\", \"Amparo\", \"Sebastián\", \"Rocío\", \"Alfredo\", \"Esperanza\", \"Álex\", \"Celia\", \"Héctor\", \"Andrea\", \"Tomás\", \"Inés\", \"Marcelo\", \"Gloria\", \"Marina\", \"Belén\", \"Valentín\", \"Miriam\", \"Guillermo\", \"Ángela\", \"Joaquín\", \"Gemma\", \"Fabián\", \"Daniela\", \"Víctor\", \"Dolores\", \"Marcos\", \"Tamara\", \"Braulio\", \"Lourdes\", \"Federico\", \"Gema\", \"Julián\", \"Nicolás\", \"Leandro\", \"Manuela\", \"Agustín\", \"Elsa\", \"Julio\", \"Consuelo\", \"Ismael\", \"Alejandra\", \"Joaquín\", \"Milagros\", \"Gregorio\", \"Inmaculada\", \"Salvador\", \"Carla\", \"Esteban\", \"Carolina\", \"Fausto\", \"Emilia\", \"Alfonso\", \"Amalia\", \"Baltasar\", \"Adela\", \"Humberto\", \"Blanca\", \"Aníbal\", \"Araceli\", \"César\", \"Candela\"]\n",
    "nombreUsuarios = input(\"introduce tu nombre: \")\n",
    "\n",
    "\n",
    "if nombreUsuarios in nombres: print(f\"Tu nombre ya existe en la lista, en la posicion {str(nombres.index(nombreUsuarios))}\")\n",
    "else: print(\"Tu no nombre no está en la lista\")"
   ]
  },
  {
   "cell_type": "markdown",
   "id": "c17e5250-e90b-43c2-b349-e24b74ee546a",
   "metadata": {},
   "source": [
    "Primeros elementos: Pregunte al usuario su nombre y le muestre el listado de todos los nombres que se encuentran delante del suyo."
   ]
  },
  {
   "cell_type": "markdown",
   "id": "ebfdc1a7-29b5-4c4a-b6dd-d36f0f7844d5",
   "metadata": {},
   "source": [
    "nombres = [\"Alejandro\", \"María\", \"Javier\", \"Lucía\", \"Carlos\", \"Sofía\", \"Miguel\", \"Ana\", \"Manuel\", \"Isabel\", \"Pedro\", \"Carmen\", \"Jorge\", \"Elena\", \"Juan\", \"Laura\", \"Antonio\", \"Patricia\", \"David\", \"Claudia\", \"Francisco\", \"Marta\", \"Sergio\", \"Teresa\", \"Luis\", \"Raquel\", \"Andrés\", \"Paula\", \"Daniel\", \"Verónica\", \"Fernando\", \"Sara\", \"Pablo\", \"Irene\", \"Álvaro\", \"Natalia\", \"Hugo\", \"Eva\", \"Diego\", \"Cristina\", \"Jesús\", \"Rosa\", \"Roberto\", \"Alicia\", \"Ángel\", \"Beatriz\", \"Ricardo\", \"Julia\", \"Adrián\", \"Silvia\", \"Alberto\", \"Victoria\", \"Raúl\", \"Pilar\", \"Ramón\", \"Lidia\", \"Óscar\", \"Ariadna\", \"Gonzalo\", \"Mónica\", \"Rubén\", \"Esther\", \"Santiago\", \"Nuria\", \"Iván\", \"Ainhoa\", \"Eduardo\", \"Berta\", \"Marcos\", \"Noelia\", \"Enrique\", \"Elisa\", \"Emilio\", \"Fátima\", \"Vicente\", \"Gabriela\", \"Mario\", \"Olga\", \"Rafael\", \"Lorena\", \"Mariano\", \"Cristina\", \"Eugenio\", \"Mercedes\", \"Félix\", \"Amparo\", \"Sebastián\", \"Rocío\", \"Alfredo\", \"Esperanza\", \"Álex\", \"Celia\", \"Héctor\", \"Andrea\", \"Tomás\", \"Inés\", \"Marcelo\", \"Gloria\", \"Marina\", \"Belén\", \"Valentín\", \"Miriam\", \"Guillermo\", \"Ángela\", \"Joaquín\", \"Gemma\", \"Fabián\", \"Daniela\", \"Víctor\", \"Dolores\", \"Marcos\", \"Tamara\", \"Braulio\", \"Lourdes\", \"Federico\", \"Gema\", \"Julián\", \"Nicolás\", \"Leandro\", \"Manuela\", \"Agustín\", \"Elsa\", \"Julio\", \"Consuelo\", \"Ismael\", \"Alejandra\", \"Joaquín\", \"Milagros\", \"Gregorio\", \"Inmaculada\", \"Salvador\", \"Carla\", \"Esteban\", \"Carolina\", \"Fausto\", \"Emilia\", \"Alfonso\", \"Amalia\", \"Baltasar\", \"Adela\", \"Humberto\", \"Blanca\", \"Aníbal\", \"Araceli\", \"César\", \"Candela\"]\n",
    "entrada = input(\"introduce tu nombre: \")\n",
    "if (entrada in nombres): \n",
    "    nombresDelante = nombres[0:nombres.index(entrada)]\n",
    "    print(nombresDelante)\n",
    "else: print(\"Tu nombre no esta la lista\")\n"
   ]
  },
  {
   "cell_type": "markdown",
   "id": "78e66a3d-1ad9-4718-bd45-f40fa38b51c6",
   "metadata": {},
   "source": [
    "Obtener número de nombres de una longitud: Pregunte al usuario un número y le diga cuántos nombres hay en la lista con la misma longitud que el número indicado"
   ]
  },
  {
   "cell_type": "code",
   "execution_count": 30,
   "id": "6d840d2a-301d-4322-84ba-dac4f9a8b502",
   "metadata": {},
   "outputs": [
    {
     "name": "stdin",
     "output_type": "stream",
     "text": [
      "introduce una longitud:  5\n"
     ]
    },
    {
     "name": "stdout",
     "output_type": "stream",
     "text": [
      "Hay 35 nombres con 5 de longitud\n"
     ]
    }
   ],
   "source": [
    "nombres = [\"Alejandro\", \"María\", \"Javier\", \"Lucía\", \"Carlos\", \"Sofía\", \"Miguel\", \"Ana\", \"Manuel\", \"Isabel\", \"Pedro\", \"Carmen\", \"Jorge\", \"Elena\", \"Juan\", \"Laura\", \"Antonio\", \"Patricia\", \"David\", \"Claudia\", \"Francisco\", \"Marta\", \"Sergio\", \"Teresa\", \"Luis\", \"Raquel\", \"Andrés\", \"Paula\", \"Daniel\", \"Verónica\", \"Fernando\", \"Sara\", \"Pablo\", \"Irene\", \"Álvaro\", \"Natalia\", \"Hugo\", \"Eva\", \"Diego\", \"Cristina\", \"Jesús\", \"Rosa\", \"Roberto\", \"Alicia\", \"Ángel\", \"Beatriz\", \"Ricardo\", \"Julia\", \"Adrián\", \"Silvia\", \"Alberto\", \"Victoria\", \"Raúl\", \"Pilar\", \"Ramón\", \"Lidia\", \"Óscar\", \"Ariadna\", \"Gonzalo\", \"Mónica\", \"Rubén\", \"Esther\", \"Santiago\", \"Nuria\", \"Iván\", \"Ainhoa\", \"Eduardo\", \"Berta\", \"Marcos\", \"Noelia\", \"Enrique\", \"Elisa\", \"Emilio\", \"Fátima\", \"Vicente\", \"Gabriela\", \"Mario\", \"Olga\", \"Rafael\", \"Lorena\", \"Mariano\", \"Cristina\", \"Eugenio\", \"Mercedes\", \"Félix\", \"Amparo\", \"Sebastián\", \"Rocío\", \"Alfredo\", \"Esperanza\", \"Álex\", \"Celia\", \"Héctor\", \"Andrea\", \"Tomás\", \"Inés\", \"Marcelo\", \"Gloria\", \"Marina\", \"Belén\", \"Valentín\", \"Miriam\", \"Guillermo\", \"Ángela\", \"Joaquín\", \"Gemma\", \"Fabián\", \"Daniela\", \"Víctor\", \"Dolores\", \"Marcos\", \"Tamara\", \"Braulio\", \"Lourdes\", \"Federico\", \"Gema\", \"Julián\", \"Nicolás\", \"Leandro\", \"Manuela\", \"Agustín\", \"Elsa\", \"Julio\", \"Consuelo\", \"Ismael\", \"Alejandra\", \"Joaquín\", \"Milagros\", \"Gregorio\", \"Inmaculada\", \"Salvador\", \"Carla\", \"Esteban\", \"Carolina\", \"Fausto\", \"Emilia\", \"Alfonso\", \"Amalia\", \"Baltasar\", \"Adela\", \"Humberto\", \"Blanca\", \"Aníbal\", \"Araceli\", \"César\", \"Candela\"]\n",
    "entrada = int(input(\"introduce una longitud: \"))\n",
    "numeroNombres = 0\n",
    "for nombre in nombres:\n",
    "    if (len(nombre) == entrada):\n",
    "        numeroNombres += 1\n",
    "print(f\"Hay {numeroNombres} nombres con {entrada} de longitud\")"
   ]
  },
  {
   "cell_type": "code",
   "execution_count": null,
   "id": "7c47b54d-d7a9-4d4a-adf9-6300f94c7eb9",
   "metadata": {},
   "outputs": [],
   "source": [
    "Nombres cortos: Muestre todos los nombres cuya longitud sea igual o inferior a 4 caracteres"
   ]
  },
  {
   "cell_type": "code",
   "execution_count": 33,
   "id": "9d75a89b-a3ce-4b29-b507-f854e5a369be",
   "metadata": {},
   "outputs": [
    {
     "name": "stdin",
     "output_type": "stream",
     "text": [
      "introduce una longitud:  5\n"
     ]
    },
    {
     "name": "stdout",
     "output_type": "stream",
     "text": [
      "\"Hay 35 nombres con 5 de longitud\n",
      "Nombres: ['María', 'Lucía', 'Sofía', 'Pedro', 'Jorge', 'Elena', 'Laura', 'David', 'Marta', 'Paula', 'Pablo', 'Irene', 'Diego', 'Jesús', 'Ángel', 'Julia', 'Pilar', 'Ramón', 'Lidia', 'Óscar', 'Rubén', 'Nuria', 'Berta', 'Elisa', 'Mario', 'Félix', 'Rocío', 'Celia', 'Tomás', 'Belén', 'Gemma', 'Julio', 'Carla', 'Adela', 'César'] \n"
     ]
    }
   ],
   "source": [
    "nombres = [\"Alejandro\", \"María\", \"Javier\", \"Lucía\", \"Carlos\", \"Sofía\", \"Miguel\", \"Ana\", \"Manuel\", \"Isabel\", \"Pedro\", \"Carmen\", \"Jorge\", \"Elena\", \"Juan\", \"Laura\", \"Antonio\", \"Patricia\", \"David\", \"Claudia\", \"Francisco\", \"Marta\", \"Sergio\", \"Teresa\", \"Luis\", \"Raquel\", \"Andrés\", \"Paula\", \"Daniel\", \"Verónica\", \"Fernando\", \"Sara\", \"Pablo\", \"Irene\", \"Álvaro\", \"Natalia\", \"Hugo\", \"Eva\", \"Diego\", \"Cristina\", \"Jesús\", \"Rosa\", \"Roberto\", \"Alicia\", \"Ángel\", \"Beatriz\", \"Ricardo\", \"Julia\", \"Adrián\", \"Silvia\", \"Alberto\", \"Victoria\", \"Raúl\", \"Pilar\", \"Ramón\", \"Lidia\", \"Óscar\", \"Ariadna\", \"Gonzalo\", \"Mónica\", \"Rubén\", \"Esther\", \"Santiago\", \"Nuria\", \"Iván\", \"Ainhoa\", \"Eduardo\", \"Berta\", \"Marcos\", \"Noelia\", \"Enrique\", \"Elisa\", \"Emilio\", \"Fátima\", \"Vicente\", \"Gabriela\", \"Mario\", \"Olga\", \"Rafael\", \"Lorena\", \"Mariano\", \"Cristina\", \"Eugenio\", \"Mercedes\", \"Félix\", \"Amparo\", \"Sebastián\", \"Rocío\", \"Alfredo\", \"Esperanza\", \"Álex\", \"Celia\", \"Héctor\", \"Andrea\", \"Tomás\", \"Inés\", \"Marcelo\", \"Gloria\", \"Marina\", \"Belén\", \"Valentín\", \"Miriam\", \"Guillermo\", \"Ángela\", \"Joaquín\", \"Gemma\", \"Fabián\", \"Daniela\", \"Víctor\", \"Dolores\", \"Marcos\", \"Tamara\", \"Braulio\", \"Lourdes\", \"Federico\", \"Gema\", \"Julián\", \"Nicolás\", \"Leandro\", \"Manuela\", \"Agustín\", \"Elsa\", \"Julio\", \"Consuelo\", \"Ismael\", \"Alejandra\", \"Joaquín\", \"Milagros\", \"Gregorio\", \"Inmaculada\", \"Salvador\", \"Carla\", \"Esteban\", \"Carolina\", \"Fausto\", \"Emilia\", \"Alfonso\", \"Amalia\", \"Baltasar\", \"Adela\", \"Humberto\", \"Blanca\", \"Aníbal\", \"Araceli\", \"César\", \"Candela\"]\n",
    "entrada = int(input(\"introduce una longitud: \"))\n",
    "numeroNombres = 0\n",
    "nombresMismaLongitud = []\n",
    "for nombre in nombres:\n",
    "    if (len(nombre) == entrada):\n",
    "        numeroNombres += 1\n",
    "        nombresMismaLongitud += [nombre]\n",
    "print(f\"\"\"\"Hay {numeroNombres} nombres con {entrada} de longitud\n",
    "Nombres: {nombresMismaLongitud} \"\"\")"
   ]
  },
  {
   "cell_type": "markdown",
   "id": "eaec67f9-42e9-49a0-8629-2a71809caec4",
   "metadata": {},
   "source": [
    "Número de vocales: Indique cuántas veces se repite cada una de las vocales entre todos los nombres (ignorando mayúsculas y minúsculas)"
   ]
  },
  {
   "cell_type": "code",
   "execution_count": 16,
   "id": "bd844de1-b355-44d6-b7a9-b2214c2c5999",
   "metadata": {},
   "outputs": [
    {
     "name": "stdout",
     "output_type": "stream",
     "text": [
      "Numero de veces que se repite cada vocal: {'a': 152, 'e': 78, 'i': 75, 'o': 65, 'u': 29}\n"
     ]
    }
   ],
   "source": [
    "nombres = [\"Alejandro\", \"María\", \"Javier\", \"Lucía\", \"Carlos\", \"Sofía\", \"Miguel\", \"Ana\", \"Manuel\", \"Isabel\", \"Pedro\", \"Carmen\", \"Jorge\", \"Elena\", \"Juan\", \"Laura\", \"Antonio\", \"Patricia\", \"David\", \"Claudia\", \"Francisco\", \"Marta\", \"Sergio\", \"Teresa\", \"Luis\", \"Raquel\", \"Andrés\", \"Paula\", \"Daniel\", \"Verónica\", \"Fernando\", \"Sara\", \"Pablo\", \"Irene\", \"Álvaro\", \"Natalia\", \"Hugo\", \"Eva\", \"Diego\", \"Cristina\", \"Jesús\", \"Rosa\", \"Roberto\", \"Alicia\", \"Ángel\", \"Beatriz\", \"Ricardo\", \"Julia\", \"Adrián\", \"Silvia\", \"Alberto\", \"Victoria\", \"Raúl\", \"Pilar\", \"Ramón\", \"Lidia\", \"Óscar\", \"Ariadna\", \"Gonzalo\", \"Mónica\", \"Rubén\", \"Esther\", \"Santiago\", \"Nuria\", \"Iván\", \"Ainhoa\", \"Eduardo\", \"Berta\", \"Marcos\", \"Noelia\", \"Enrique\", \"Elisa\", \"Emilio\", \"Fátima\", \"Vicente\", \"Gabriela\", \"Mario\", \"Olga\", \"Rafael\", \"Lorena\", \"Mariano\", \"Cristina\", \"Eugenio\", \"Mercedes\", \"Félix\", \"Amparo\", \"Sebastián\", \"Rocío\", \"Alfredo\", \"Esperanza\", \"Álex\", \"Celia\", \"Héctor\", \"Andrea\", \"Tomás\", \"Inés\", \"Marcelo\", \"Gloria\", \"Marina\", \"Belén\", \"Valentín\", \"Miriam\", \"Guillermo\", \"Ángela\", \"Joaquín\", \"Gemma\", \"Fabián\", \"Daniela\", \"Víctor\", \"Dolores\", \"Marcos\", \"Tamara\", \"Braulio\", \"Lourdes\", \"Federico\", \"Gema\", \"Julián\", \"Nicolás\", \"Leandro\", \"Manuela\", \"Agustín\", \"Elsa\", \"Julio\", \"Consuelo\", \"Ismael\", \"Alejandra\", \"Joaquín\", \"Milagros\", \"Gregorio\", \"Inmaculada\", \"Salvador\", \"Carla\", \"Esteban\", \"Carolina\", \"Fausto\", \"Emilia\", \"Alfonso\", \"Amalia\", \"Baltasar\", \"Adela\", \"Humberto\", \"Blanca\", \"Aníbal\", \"Araceli\", \"César\", \"Candela\"]\n",
    "vocales = [\"a\", \"e\", \"i\", \"o\", \"u\"]\n",
    "nombresJuntados = \"\".join(nombres).lower()\n",
    "numVocales = {vocal: nombresJuntados.count(vocal) for vocal in vocales}\n",
    "print(f\"Numero de veces que se repite cada vocal: {numVocales}\")\n",
    "\n"
   ]
  },
  {
   "cell_type": "markdown",
   "id": "099ba5b0-d463-45ce-8bf2-5c2289e23539",
   "metadata": {},
   "source": [
    "Número de letras: Imprima el número de veces que se repite cada letra del abecedario entre todos los elementos de la lista."
   ]
  },
  {
   "cell_type": "code",
   "execution_count": 27,
   "id": "b77ceac9-2018-4855-8571-3a6649bf57c8",
   "metadata": {},
   "outputs": [
    {
     "name": "stdout",
     "output_type": "stream",
     "text": [
      "{'a': 152, 'l': 70, 'e': 78, 'j': 11, 'n': 62, 'd': 28, 'r': 79, 'o': 65, 'm': 32, 'í': 10, 'v': 12, 'i': 75, 'u': 29, 'c': 34, 's': 41, 'f': 11, 'g': 20, 'b': 17, 'p': 7, 't': 27, 'q': 4, 'é': 7, 'ó': 4, 'á': 12, 'h': 5, 'ú': 2, 'z': 3, 'x': 2}\n"
     ]
    }
   ],
   "source": [
    "nombres = [\"Alejandro\", \"María\", \"Javier\", \"Lucía\", \"Carlos\", \"Sofía\", \"Miguel\", \"Ana\", \"Manuel\", \"Isabel\", \"Pedro\", \"Carmen\", \"Jorge\", \"Elena\", \"Juan\", \"Laura\", \"Antonio\", \"Patricia\", \"David\", \"Claudia\", \"Francisco\", \"Marta\", \"Sergio\", \"Teresa\", \"Luis\", \"Raquel\", \"Andrés\", \"Paula\", \"Daniel\", \"Verónica\", \"Fernando\", \"Sara\", \"Pablo\", \"Irene\", \"Álvaro\", \"Natalia\", \"Hugo\", \"Eva\", \"Diego\", \"Cristina\", \"Jesús\", \"Rosa\", \"Roberto\", \"Alicia\", \"Ángel\", \"Beatriz\", \"Ricardo\", \"Julia\", \"Adrián\", \"Silvia\", \"Alberto\", \"Victoria\", \"Raúl\", \"Pilar\", \"Ramón\", \"Lidia\", \"Óscar\", \"Ariadna\", \"Gonzalo\", \"Mónica\", \"Rubén\", \"Esther\", \"Santiago\", \"Nuria\", \"Iván\", \"Ainhoa\", \"Eduardo\", \"Berta\", \"Marcos\", \"Noelia\", \"Enrique\", \"Elisa\", \"Emilio\", \"Fátima\", \"Vicente\", \"Gabriela\", \"Mario\", \"Olga\", \"Rafael\", \"Lorena\", \"Mariano\", \"Cristina\", \"Eugenio\", \"Mercedes\", \"Félix\", \"Amparo\", \"Sebastián\", \"Rocío\", \"Alfredo\", \"Esperanza\", \"Álex\", \"Celia\", \"Héctor\", \"Andrea\", \"Tomás\", \"Inés\", \"Marcelo\", \"Gloria\", \"Marina\", \"Belén\", \"Valentín\", \"Miriam\", \"Guillermo\", \"Ángela\", \"Joaquín\", \"Gemma\", \"Fabián\", \"Daniela\", \"Víctor\", \"Dolores\", \"Marcos\", \"Tamara\", \"Braulio\", \"Lourdes\", \"Federico\", \"Gema\", \"Julián\", \"Nicolás\", \"Leandro\", \"Manuela\", \"Agustín\", \"Elsa\", \"Julio\", \"Consuelo\", \"Ismael\", \"Alejandra\", \"Joaquín\", \"Milagros\", \"Gregorio\", \"Inmaculada\", \"Salvador\", \"Carla\", \"Esteban\", \"Carolina\", \"Fausto\", \"Emilia\", \"Alfonso\", \"Amalia\", \"Baltasar\", \"Adela\", \"Humberto\", \"Blanca\", \"Aníbal\", \"Araceli\", \"César\", \"Candela\"]\n",
    "\n",
    "nombresJuntados = \"\".join(nombres).lower()\n",
    "numLetras = {letra: nombresJuntados.count(letra) for letra in nombresJuntados}\n",
    "print(numLetras)"
   ]
  },
  {
   "cell_type": "markdown",
   "id": "545bffc7-b5ca-49a4-a5d6-a72c9e13f80c",
   "metadata": {},
   "source": [
    "Sumar elementos de una lista: Dada una lista de números, escribe un programa que calcule y muestre la suma de todos sus elementos."
   ]
  },
  {
   "cell_type": "code",
   "execution_count": 28,
   "id": "aa3c96dd-2c8f-4b3a-ae81-720ccb453470",
   "metadata": {},
   "outputs": [
    {
     "name": "stdout",
     "output_type": "stream",
     "text": [
      "36\n"
     ]
    }
   ],
   "source": [
    "numero = [1, 2 ,3 ,4 ,5 ,6 ,7 ,8]\n",
    "total = sum(numero)\n",
    "print(total)"
   ]
  },
  {
   "cell_type": "markdown",
   "id": "8e68165d-1530-43ff-9a28-dada03456281",
   "metadata": {},
   "source": [
    "Contar elementos específicos: Dada una lista de palabras, permite al usuario ingresar una palabra y cuenta cuántas veces aparece en la lista."
   ]
  },
  {
   "cell_type": "code",
   "execution_count": 30,
   "id": "e61a8303-40d1-4398-bd16-4432ccba27d8",
   "metadata": {},
   "outputs": [
    {
     "name": "stdin",
     "output_type": "stream",
     "text": [
      "Introduce una palabra:  a\n"
     ]
    },
    {
     "name": "stdout",
     "output_type": "stream",
     "text": [
      "0\n"
     ]
    }
   ],
   "source": [
    "nombres = [\"Alejandro\", \"María\", \"Javier\", \"Lucía\", \"Carlos\", \"Sofía\", \"Miguel\", \"Ana\", \"Manuel\", \"Isabel\", \"Pedro\", \"Carmen\", \"Jorge\", \"Elena\", \"Juan\", \"Laura\", \"Antonio\", \"Patricia\", \"David\", \"Claudia\", \"Francisco\", \"Marta\", \"Sergio\", \"Teresa\", \"Luis\", \"Raquel\", \"Andrés\", \"Paula\", \"Daniel\", \"Verónica\", \"Fernando\", \"Sara\", \"Pablo\", \"Irene\", \"Álvaro\", \"Natalia\", \"Hugo\", \"Eva\", \"Diego\", \"Cristina\", \"Jesús\", \"Rosa\", \"Roberto\", \"Alicia\", \"Ángel\", \"Beatriz\", \"Ricardo\", \"Julia\", \"Adrián\", \"Silvia\", \"Alberto\", \"Victoria\", \"Raúl\", \"Pilar\", \"Ramón\", \"Lidia\", \"Óscar\", \"Ariadna\", \"Gonzalo\", \"Mónica\", \"Rubén\", \"Esther\", \"Santiago\", \"Nuria\", \"Iván\", \"Ainhoa\", \"Eduardo\", \"Berta\", \"Marcos\", \"Noelia\", \"Enrique\", \"Elisa\", \"Emilio\", \"Fátima\", \"Vicente\", \"Gabriela\", \"Mario\", \"Olga\", \"Rafael\", \"Lorena\", \"Mariano\", \"Cristina\", \"Eugenio\", \"Mercedes\", \"Félix\", \"Amparo\", \"Sebastián\", \"Rocío\", \"Alfredo\", \"Esperanza\", \"Álex\", \"Celia\", \"Héctor\", \"Andrea\", \"Tomás\", \"Inés\", \"Marcelo\", \"Gloria\", \"Marina\", \"Belén\", \"Valentín\", \"Miriam\", \"Guillermo\", \"Ángela\", \"Joaquín\", \"Gemma\", \"Fabián\", \"Daniela\", \"Víctor\", \"Dolores\", \"Marcos\", \"Tamara\", \"Braulio\", \"Lourdes\", \"Federico\", \"Gema\", \"Julián\", \"Nicolás\", \"Leandro\", \"Manuela\", \"Agustín\", \"Elsa\", \"Julio\", \"Consuelo\", \"Ismael\", \"Alejandra\", \"Joaquín\", \"Milagros\", \"Gregorio\", \"Inmaculada\", \"Salvador\", \"Carla\", \"Esteban\", \"Carolina\", \"Fausto\", \"Emilia\", \"Alfonso\", \"Amalia\", \"Baltasar\", \"Adela\", \"Humberto\", \"Blanca\", \"Aníbal\", \"Araceli\", \"César\", \"Candela\"]\n",
    "\n",
    "entrada = input(\"Introduce una palabra: \")\n",
    "numVeces = 0\n",
    "if(entrada in nombres): numVeces += 1\n",
    "print (numVeces)"
   ]
  },
  {
   "cell_type": "markdown",
   "id": "f923b3e7-cee4-4277-b979-62f064446d1e",
   "metadata": {},
   "source": [
    "Eliminar duplicados: Dada una lista de números, elimina todos los elementos duplicados y muestra la lista con solo valores únicos."
   ]
  },
  {
   "cell_type": "code",
   "execution_count": 34,
   "id": "057adb59-40a1-4d3d-9601-89cd44700dfa",
   "metadata": {},
   "outputs": [
    {
     "name": "stdout",
     "output_type": "stream",
     "text": [
      "{1, 2, 3, 4, 5, 6, 7, 8}\n"
     ]
    }
   ],
   "source": [
    "numero = [1, 1, 1, 2 ,3 ,4 ,5 ,6, 6 ,7 ,8]\n",
    "numeroFiltado = set(numero)\n",
    "print(numeroFiltado)"
   ]
  },
  {
   "cell_type": "markdown",
   "id": "b79dbbce-5ba8-4a48-8103-7121b70af539",
   "metadata": {},
   "source": [
    "Máximo y mínimo: Escribe una función que tome una lista de números y devuelva el valor máximo y mínimo de la lista."
   ]
  },
  {
   "cell_type": "code",
   "execution_count": 35,
   "id": "047af498-256f-4b6d-9388-76c12ea0ac11",
   "metadata": {},
   "outputs": [
    {
     "name": "stdout",
     "output_type": "stream",
     "text": [
      "El numero mas alto es 8\n",
      "El numero mas bajo es 1\n"
     ]
    }
   ],
   "source": [
    "numero = [1, 1, 1, 2 ,3 ,4 ,5 ,6, 6 ,7 ,8]\n",
    "print(f\"El numero mas alto es {max(numero)}\")\n",
    "print(f\"El numero mas bajo es {min(numero)}\")"
   ]
  },
  {
   "cell_type": "markdown",
   "id": "cac23375-aa64-48cf-aabb-57e3a15da6d3",
   "metadata": {},
   "source": [
    "Filtrar números pares: Dada una lista de números, genera una nueva lista que contenga solo los números pares."
   ]
  },
  {
   "cell_type": "code",
   "execution_count": 38,
   "id": "764dc5bc-6632-45f1-aa24-c248c6b0443e",
   "metadata": {},
   "outputs": [
    {
     "name": "stdout",
     "output_type": "stream",
     "text": [
      "{8, 2, 4, 6}\n"
     ]
    }
   ],
   "source": [
    "numeros = [1, 1, 1, 2 ,3 ,4 ,5 ,6, 6 ,7 ,8]\n",
    "numerosPares = set([num for num in numeros if num %2 == 0])\n",
    "print(numerosPares)\n",
    "        "
   ]
  },
  {
   "cell_type": "markdown",
   "id": "f3b6ac78-f8f7-4fb0-8cae-5a9311ad8df7",
   "metadata": {},
   "source": [
    "Revertir una lista: Escribe una función que tome una lista y devuelva una nueva lista con los elementos en orden inverso, sin utilizar el método .reverse()."
   ]
  },
  {
   "cell_type": "code",
   "execution_count": 39,
   "id": "137b9fd5-52cd-46db-8cda-8a1774bec6c8",
   "metadata": {},
   "outputs": [
    {
     "name": "stdout",
     "output_type": "stream",
     "text": [
      "[8, 7, 6, 6, 5, 4, 3, 2, 1, 1, 1]\n"
     ]
    }
   ],
   "source": [
    "numerosInvert = numeros[::-1]\n",
    "print(numerosInvert)"
   ]
  },
  {
   "cell_type": "markdown",
   "id": "bd6a6263-d805-4f7c-a10b-6bd8a2fe636f",
   "metadata": {},
   "source": [
    "Concatenar listas: Dadas dos listas de números, crea una función que devuelva una tercera lista que contenga los elementos de ambas listas intercalados."
   ]
  },
  {
   "cell_type": "code",
   "execution_count": 48,
   "id": "1dd13404-8ae7-4b06-be35-59ebd5f2938e",
   "metadata": {},
   "outputs": [
    {
     "name": "stdout",
     "output_type": "stream",
     "text": [
      "[1, 2, 3, 4, 5, 6, 8, 10]\n"
     ]
    }
   ],
   "source": [
    "def intercalar_listas(lista1, lista2):\n",
    "    resultado = []\n",
    "\n",
    "    for elem1, elem2 in zip(lista1, lista2):\n",
    "        resultado.append(elem1)\n",
    "        resultado.append(elem2)\n",
    "    \n",
    "    resultado.extend(lista1[len(lista2):])\n",
    "    resultado.extend(lista2[len(lista1):])\n",
    "    \n",
    "    return resultado\n",
    "\n",
    "lista1 = [1, 3, 5]\n",
    "lista2 = [2, 4, 6, 8, 10]\n",
    "print(intercalar_listas(lista1, lista2))"
   ]
  },
  {
   "cell_type": "markdown",
   "id": "5b17315e-9f47-411a-b6d9-9dbe53d59836",
   "metadata": {},
   "source": [
    "Encuentra elementos comunes: Escribe un programa que tome dos listas y devuelva una nueva lista con los elementos que son comunes en ambas."
   ]
  },
  {
   "cell_type": "code",
   "execution_count": 49,
   "id": "569842a9-0198-4238-af6b-c385d1b5e2f3",
   "metadata": {},
   "outputs": [
    {
     "name": "stdout",
     "output_type": "stream",
     "text": [
      "[4, 5]\n"
     ]
    }
   ],
   "source": [
    "def encontrar_comunes(lista1, lista2):\n",
    "    \n",
    "    comunes = set(lista1) & set(lista2)\n",
    "    return list(comunes)\n",
    "\n",
    "lista1 = [1, 2, 3, 4, 5]\n",
    "lista2 = [4, 5, 6, 7, 8]\n",
    "print(encontrar_comunes(lista1, lista2)) \n"
   ]
  },
  {
   "cell_type": "markdown",
   "id": "c9193c35-bfb0-4340-bd8a-3ad5fa051433",
   "metadata": {},
   "source": [
    "Dividir una lista: Dada una lista de números, crea dos listas: una con los números mayores o iguales a la media y otra con los números menores a la media."
   ]
  },
  {
   "cell_type": "code",
   "execution_count": null,
   "id": "a65618de-aa33-477b-a4eb-7d4f54cda1be",
   "metadata": {},
   "outputs": [],
   "source": []
  },
  {
   "cell_type": "markdown",
   "id": "4c6d5e45-b0bb-459b-98ab-ad12a7a6556e",
   "metadata": {},
   "source": [
    "Lista de listas: Crea una lista de listas que represente una matriz de números y escribe una función que devuelva la suma de cada fila y columna."
   ]
  },
  {
   "cell_type": "code",
   "execution_count": null,
   "id": "bc0c8219-f8cd-4e9e-bd71-7fcad7441fa6",
   "metadata": {},
   "outputs": [],
   "source": []
  }
 ],
 "metadata": {
  "kernelspec": {
   "display_name": "Python 3 (ipykernel)",
   "language": "python",
   "name": "python3"
  },
  "language_info": {
   "codemirror_mode": {
    "name": "ipython",
    "version": 3
   },
   "file_extension": ".py",
   "mimetype": "text/x-python",
   "name": "python",
   "nbconvert_exporter": "python",
   "pygments_lexer": "ipython3",
   "version": "3.11.6"
  }
 },
 "nbformat": 4,
 "nbformat_minor": 5
}
