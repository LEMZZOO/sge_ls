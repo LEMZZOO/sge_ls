{
 "cells": [
  {
   "cell_type": "markdown",
   "metadata": {},
   "source": [
    "1.- Buscar valor en un diccionario\n",
    "Crea un diccionario de frutas y precios. Permite al usuario ingresar el nombre de una fruta y muestra su precio si existe en el diccionario, o un mensaje de que no está disponible en caso contrario."
   ]
  },
  {
   "cell_type": "code",
   "execution_count": 6,
   "metadata": {},
   "outputs": [
    {
     "name": "stdout",
     "output_type": "stream",
     "text": [
      "Lo siento, esa fruta no está disponible.\n"
     ]
    }
   ],
   "source": [
    "frutas = {\n",
    "    \"manzana\": 0.50,\n",
    "    \"banana\": 0.30,\n",
    "    \"naranja\": 0.40,\n",
    "    \"pera\": 0.45\n",
    "}\n",
    "\n",
    "entrada = input(\"Ingresa el nombre de la fruta: \").lower()\n",
    "\n",
    "if entrada in frutas:\n",
    "    print(f\"El precio de {entrada} es ${frutas[entrada]:0.2f}\")\n",
    "else:\n",
    "    print(\"Lo siento, esa fruta no está disponible.\")\n"
   ]
  },
  {
   "cell_type": "markdown",
   "metadata": {},
   "source": [
    "2.- Contar elementos en un diccionario\n",
    "Suponiendo un diccionario con al siguiente estructura, crea un programa que calcule cuántas categorías hay, cuántos productos tiene cada categoría y cuántos productos hay en total."
   ]
  },
  {
   "cell_type": "code",
   "execution_count": null,
   "metadata": {},
   "outputs": [
    {
     "name": "stdout",
     "output_type": "stream",
     "text": [
      "Total de categorías: 5\n",
      "Productos por categoría:\n",
      "Electrónica: 5\n",
      "Hogar: 5\n",
      "Ropa: 5\n",
      "Deportes: 5\n",
      "Juguetes: 5\n",
      "Total de productos: 25\n"
     ]
    }
   ],
   "source": [
    "productos = {\n",
    "    \"Electrónica\": [\"Smartphone\", \"Laptop\", \"Tablet\", \"Auriculares\", \"Smartwatch\"],\n",
    "    \"Hogar\": [\"Aspiradora\", \"Microondas\", \"Lámpara\", \"Sofá\", \"Cafetera\"],\n",
    "    \"Ropa\": [\"Camisa\", \"Pantalones\", \"Chaqueta\", \"Zapatos\", \"Bufanda\"],\n",
    "    \"Deportes\": [\"Pelota de fútbol\", \"Raqueta de tenis\", \"Bicicleta\", \"Pesas\", \"Cuerda de saltar\"],\n",
    "    \"Juguetes\": [\"Muñeca\", \"Bloques de construcción\", \"Peluche\", \"Rompecabezas\", \"Coche de juguete\"],\n",
    "}\n",
    "\n",
    "totalCategorias = len(productos)\n",
    "productosPorCategoria = {categoria: len(items) for categoria, items in productos.items()}\n",
    "total_productos = sum(productosPorCategoria.values())\n",
    "\n",
    "print(f\"Total de categorías: {totalCategorias}\")\n",
    "print(\"Productos por categoría:\")\n",
    "for categoria, cantidad in productos_por_categoria.items():\n",
    "    print(f\"{categoria}: {cantidad}\")\n",
    "print(f\"Total de productos: {total_productos}\")\n"
   ]
  },
  {
   "cell_type": "markdown",
   "metadata": {},
   "source": [
    "3.- Contador de frecuencias de palabras\n",
    "Escribe un programa que tome una frase y use un diccionario para contar la frecuencia de cada palabra."
   ]
  },
  {
   "cell_type": "code",
   "execution_count": 13,
   "metadata": {},
   "outputs": [
    {
     "name": "stdout",
     "output_type": "stream",
     "text": [
      "Frecuencia de palabras:\n",
      "hola: 3\n"
     ]
    }
   ],
   "source": [
    "frase = input(\"Ingresa una frase: \").lower()\n",
    "palabras = frase.split()\n",
    "\n",
    "frecuenciaPalabras = {palabra: palabras.count(palabra) for palabra in set(palabras)}\n",
    "\n",
    "print(\"Frecuencia de palabras:\")\n",
    "for palabra, frecuencia in frecuenciaPalabras.items():\n",
    "    print(f\"{palabra}: {frecuencia}\")\n"
   ]
  },
  {
   "cell_type": "markdown",
   "metadata": {},
   "source": [
    "4.- Diccionario de listas\n",
    "Supón un diccionario donde cada clave es una asignatura y el valor correspondiente una lista de estudiantes matriculados, tal como se muestra en el diccionario de ejemplo. Crea un programa que tenga un menú con tres opciones:\n",
    "\n",
    "Listar estudiantes matriculados en una asignatura\n",
    "Matricular un estudiante en una asignatura\n",
    "Dar de baja un estudiante de una asignatura.\n",
    "asignaturas = {\n",
    "    \"Matemáticas\": [\"Ana\", \"Carlos\", \"Luis\", \"María\", \"Jorge\"],\n",
    "    \"Física\": [\"Elena\", \"Luis\", \"Juan\", \"Sofía\"],\n",
    "    \"Programación\": [\"Ana\", \"Carlos\", \"Sofía\", \"Jorge\", \"Pedro\"],\n",
    "    \"Historia\": [\"María\", \"Juan\", \"Elena\", \"Ana\"],\n",
    "    \"Inglés\": [\"Carlos\", \"Sofía\", \"Jorge\", \"María\"],\n",
    "}"
   ]
  },
  {
   "cell_type": "code",
   "execution_count": null,
   "metadata": {},
   "outputs": [
    {
     "name": "stdout",
     "output_type": "stream",
     "text": [
      "\n",
      "Menú:\n",
      "1. Listar estudiantes matriculados en una asignatura\n",
      "2. Matricular un estudiante en una asignatura\n",
      "3. Dar de baja un estudiante de una asignatura\n",
      "4. Salir\n",
      "Estudiantes en Matemáticas: Ana, Carlos, Luis, María, Jorge\n",
      "\n",
      "Menú:\n",
      "1. Listar estudiantes matriculados en una asignatura\n",
      "2. Matricular un estudiante en una asignatura\n",
      "3. Dar de baja un estudiante de una asignatura\n",
      "4. Salir\n",
      "Saliendo del programa.\n"
     ]
    }
   ],
   "source": [
    "asignaturas = {\n",
    "    \"Matemáticas\": [\"Ana\", \"Carlos\", \"Luis\", \"María\", \"Jorge\"],\n",
    "    \"Física\": [\"Elena\", \"Luis\", \"Juan\", \"Sofía\"],\n",
    "    \"Programación\": [\"Ana\", \"Carlos\", \"Sofía\", \"Jorge\", \"Pedro\"],\n",
    "    \"Historia\": [\"María\", \"Juan\", \"Elena\", \"Ana\"],\n",
    "    \"Inglés\": [\"Carlos\", \"Sofía\", \"Jorge\", \"María\"],\n",
    "}\n",
    "\n",
    "def listar_estudiantes(asignatura):\n",
    "    if asignatura in asignaturas:\n",
    "        print(f\"Estudiantes en {asignatura}: {', '.join(asignaturas[asignatura])}\")\n",
    "    else:\n",
    "        print(\"La asignatura no existe.\")\n",
    "\n",
    "def matricular_estudiante(asignatura, estudiante):\n",
    "    if asignatura in asignaturas:\n",
    "        if estudiante not in asignaturas[asignatura]:\n",
    "            asignaturas[asignatura].append(estudiante)\n",
    "            print(f\"{estudiante} ha sido matriculado en {asignatura}.\")\n",
    "        else:\n",
    "            print(f\"{estudiante} ya está matriculado en {asignatura}.\")\n",
    "    else:\n",
    "        print(\"La asignatura no existe.\")\n",
    "\n",
    "def dar_baja_estudiante(asignatura, estudiante):\n",
    "    if asignatura in asignaturas:\n",
    "        if estudiante in asignaturas[asignatura]:\n",
    "            asignaturas[asignatura].remove(estudiante)\n",
    "            print(f\"{estudiante} ha sido dado de baja de {asignatura}.\")\n",
    "        else:\n",
    "            print(f\"{estudiante} no está matriculado en {asignatura}.\")\n",
    "    else:\n",
    "        print(\"La asignatura no existe.\")\n",
    "\n",
    "while True:\n",
    "    print(\"\\nMenú:\")\n",
    "    print(\"1. Listar estudiantes matriculados en una asignatura\")\n",
    "    print(\"2. Matricular un estudiante en una asignatura\")\n",
    "    print(\"3. Dar de baja un estudiante de una asignatura\")\n",
    "    print(\"4. Salir\")\n",
    "    opcion = input(\"Selecciona una opción: \")\n",
    "\n",
    "    if opcion == \"1\":\n",
    "        asignatura = input(\"Ingresa el nombre de la asignatura: \")\n",
    "        listar_estudiantes(asignatura)\n",
    "    elif opcion == \"2\":\n",
    "        asignatura = input(\"Ingresa el nombre de la asignatura: \")\n",
    "        estudiante = input(\"Ingresa el nombre del estudiante: \")\n",
    "        matricular_estudiante(asignatura, estudiante)\n",
    "    elif opcion == \"3\":\n",
    "        asignatura = input(\"Ingresa el nombre de la asignatura: \")\n",
    "        estudiante = input(\"Ingresa el nombre del estudiante: \")\n",
    "        dar_baja_estudiante(asignatura, estudiante)\n",
    "    elif opcion == \"4\":\n",
    "        print(\"Saliendo del programa.\")\n",
    "        break\n",
    "    else:\n",
    "        print(\"Opción no válida. Intenta de nuevo.\")"
   ]
  },
  {
   "cell_type": "markdown",
   "metadata": {},
   "source": [
    "5.- Diccionario invertido\n",
    "Escribe una función que tome un diccionario y devuelva otro con las claves y valores intercambiados (lo que antes eran valores ahora son claves, y viceversa)."
   ]
  },
  {
   "cell_type": "code",
   "execution_count": null,
   "metadata": {},
   "outputs": [],
   "source": [
    "diccionario = {\n",
    "    \"manzana\": \"fruta\",\n",
    "    \"zanahoria\": \"verdura\",\n",
    "    \"salmon\": \"pescado\",\n",
    "    \"pollo\": \"carne\"\n",
    "}\n",
    "\n",
    "def invertir_diccionario(diccionario):\n",
    "    return {valor: clave for clave, valor in diccionario.items()}"
   ]
  },
  {
   "cell_type": "markdown",
   "metadata": {},
   "source": [
    "6.- Combinar dos diccionarios\n",
    "Escribe un programa que tome dos diccionarios de productos y precios, y combine los productos comunes sumando sus precios, sin duplicar los elementos únicos."
   ]
  },
  {
   "cell_type": "code",
   "execution_count": null,
   "metadata": {},
   "outputs": [],
   "source": [
    "productos1 = {\n",
    "    \"manzana\": 1.20,\n",
    "    \"banana\": 0.50,\n",
    "    \"pera\": 0.80,\n",
    "}\n",
    "\n",
    "productos2 = {\n",
    "    \"banana\": 0.40,\n",
    "    \"naranja\": 0.60,\n",
    "    \"manzana\": 1.10,\n",
    "}\n",
    "\n",
    "def juntarDiccionarios(dic1, dic2):\n",
    "    #copia para evitar modificar datos originales\n",
    "    diccionarioJuntado = dic1.copy()\n",
    "    \n",
    "    for producto, precio in dic2.items():\n",
    "        if producto in diccionarioJuntado:\n",
    "            diccionarioJuntado[producto] += precio\n",
    "        else:\n",
    "            diccionarioJuntado[producto] = precio\n",
    "            \n",
    "    return diccionarioJuntado\n",
    "\n",
    "\n",
    "\n",
    "\n",
    "productosJuntados = juntarDiccionarios(productos1, productos2)\n",
    "print(productosJuntados)"
   ]
  },
  {
   "cell_type": "markdown",
   "metadata": {},
   "source": [
    "7.- Filtrar claves y valores\n",
    "Dado un diccionario de empleados y salarios, filtra e imprime solo los empleados con un salario mayor a un umbral definido."
   ]
  },
  {
   "cell_type": "code",
   "execution_count": 16,
   "metadata": {},
   "outputs": [
    {
     "name": "stdout",
     "output_type": "stream",
     "text": [
      "{'Ana': 2500, 'Luis': 3000, 'Jorge': 3500}\n"
     ]
    }
   ],
   "source": [
    "diccionario = {\n",
    "    \"Ana\": 2500,\n",
    "    \"Carlos\": 1800,\n",
    "    \"Luis\": 3000,\n",
    "    \"María\": 2200,\n",
    "    \"Jorge\": 3500,\n",
    "}\n",
    "\n",
    "umbral = 2300\n",
    "\n",
    "def filtrarEmpleados(diccionario, umbral):\n",
    "    empleados_filtrados = {empleado: salario for empleado, salario in diccionario.items() if salario > umbral}\n",
    "    return empleados_filtrados\n",
    "\n",
    "\n",
    "print(filtrarEmpleados(diccionario, umbral))\n"
   ]
  },
  {
   "cell_type": "markdown",
   "metadata": {},
   "source": [
    "8.- Anidación de diccionarios\n",
    "Partiendo de un diccionario donde las claves son nombres de departamentos y los valores, diccionarios de empleados y sus puestos, tal como se ve en el código de ejemplo, crea un programa que permita realizar las siguientes funciones:\n",
    "\n",
    "Mostrar el listado de todos los empleados de un departamento\n",
    "Añadir un empleado a un departamento\n",
    "Eliminar un empleado de un departamento"
   ]
  },
  {
   "cell_type": "code",
   "execution_count": 17,
   "metadata": {},
   "outputs": [
    {
     "name": "stdout",
     "output_type": "stream",
     "text": [
      "\n",
      "Menú:\n",
      "1. Mostrar empleados de un departamento\n",
      "2. Añadir empleado a un departamento\n",
      "3. Eliminar empleado de un departamento\n",
      "4. Salir\n",
      "Empleados en Finanzas:\n",
      "Juan: Analista Financiero\n",
      "Lucía: Contadora\n",
      "Raúl: Asesor Financiero\n",
      "\n",
      "Menú:\n",
      "1. Mostrar empleados de un departamento\n",
      "2. Añadir empleado a un departamento\n",
      "3. Eliminar empleado de un departamento\n",
      "4. Salir\n",
      "Saliendo del programa.\n"
     ]
    }
   ],
   "source": [
    "departamentos = {\n",
    "    \"Recursos Humanos\": {\n",
    "        \"Ana\": \"Gerente de Recursos Humanos\",\n",
    "        \"Luis\": \"Especialista en Reclutamiento\",\n",
    "        \"Elena\": \"Asistente de Recursos Humanos\"\n",
    "    },\n",
    "    \"Tecnología\": {\n",
    "        \"Carlos\": \"Desarrollador Backend\",\n",
    "        \"María\": \"Desarrolladora Frontend\",\n",
    "        \"Pedro\": \"Administrador de Sistemas\"\n",
    "    },\n",
    "    \"Marketing\": {\n",
    "        \"Sofía\": \"Directora de Marketing\",\n",
    "        \"Jorge\": \"Especialista en SEO\",\n",
    "        \"Laura\": \"Community Manager\"\n",
    "    },\n",
    "    \"Finanzas\": {\n",
    "        \"Juan\": \"Analista Financiero\",\n",
    "        \"Lucía\": \"Contadora\",\n",
    "        \"Raúl\": \"Asesor Financiero\"\n",
    "    }\n",
    "}\n",
    "\n",
    "def mostrar_empleados(departamentos, departamento):\n",
    "    if departamento in departamentos:\n",
    "        print(f\"Empleados en {departamento}:\")\n",
    "        for empleado, puesto in departamentos[departamento].items():\n",
    "            print(f\"{empleado}: {puesto}\")\n",
    "    else:\n",
    "        print(\"El departamento no existe.\")\n",
    "\n",
    "def añadir_empleado(departamentos, departamento, empleado, puesto):\n",
    "    if departamento in departamentos:\n",
    "        departamentos[departamento][empleado] = puesto\n",
    "        print(f\"{empleado} ha sido añadido al departamento de {departamento}.\")\n",
    "    else:\n",
    "        print(\"El departamento no existe.\")\n",
    "\n",
    "def eliminar_empleado(departamentos, departamento, empleado):\n",
    "    if departamento in departamentos:\n",
    "        if empleado in departamentos[departamento]:\n",
    "            del departamentos[departamento][empleado]\n",
    "            print(f\"{empleado} ha sido eliminado del departamento de {departamento}.\")\n",
    "        else:\n",
    "            print(f\"{empleado} no se encuentra en el departamento de {departamento}.\")\n",
    "    else:\n",
    "        print(\"El departamento no existe.\")\n",
    "\n",
    "\n",
    "# Menu\n",
    "while True:\n",
    "    print(\"\\nMenú:\")\n",
    "    print(\"1. Mostrar empleados de un departamento\")\n",
    "    print(\"2. Añadir empleado a un departamento\")\n",
    "    print(\"3. Eliminar empleado de un departamento\")\n",
    "    print(\"4. Salir\")\n",
    "    opcion = input(\"Selecciona una opción: \")\n",
    "\n",
    "    if opcion == \"1\":\n",
    "        departamento = input(\"Ingresa el nombre del departamento: \")\n",
    "        mostrar_empleados(departamentos, departamento)\n",
    "    elif opcion == \"2\":\n",
    "        departamento = input(\"Ingresa el nombre del departamento: \")\n",
    "        empleado = input(\"Ingresa el nombre del empleado: \")\n",
    "        puesto = input(\"Ingresa el puesto del empleado: \")\n",
    "        añadir_empleado(departamentos, departamento, empleado, puesto)\n",
    "    elif opcion == \"3\":\n",
    "        departamento = input(\"Ingresa el nombre del departamento: \")\n",
    "        empleado = input(\"Ingresa el nombre del empleado a eliminar: \")\n",
    "        eliminar_empleado(departamentos, departamento, empleado)\n",
    "    elif opcion == \"4\":\n",
    "        print(\"Saliendo del programa.\")\n",
    "        break\n",
    "    else:\n",
    "        print(\"Opción no válida. Intenta de nuevo.\")\n"
   ]
  },
  {
   "cell_type": "markdown",
   "metadata": {},
   "source": [
    "9.- Transformación de datos\n",
    "Dado un diccionario con claves como nombres de estudiantes y valores como una lista de calificaciones, haz un programa que:\n",
    "\n",
    "Cree un nuevo diccionario que contenga el promedio de calificaciones para cada estudiante\n",
    "Crea otro diccionario que contengan la nota promedio en cada asignatura"
   ]
  },
  {
   "cell_type": "code",
   "execution_count": null,
   "metadata": {},
   "outputs": [
    {
     "name": "stdout",
     "output_type": "stream",
     "text": [
      "Promedio por estudiante:\n",
      "Ana: 8.43\n",
      "Carlos: 9.13\n",
      "Luis: 8.03\n",
      "María: 9.77\n",
      "Jorge: 8.37\n",
      "Sofía: 9.10\n",
      "\n",
      "Promedio por asignatura:\n",
      "Matemáticas: 8.78\n",
      "Física: 8.85\n",
      "Programación: 8.78\n"
     ]
    }
   ],
   "source": [
    "estudiantes = {\n",
    "    \"Ana\": {\"Matemáticas\": 8.5, \"Física\": 9.0, \"Programación\": 7.8},\n",
    "    \"Carlos\": {\"Matemáticas\": 9.2, \"Física\": 8.8, \"Programación\": 9.4},\n",
    "    \"Luis\": {\"Matemáticas\": 7.6, \"Física\": 8.0, \"Programación\": 8.5},\n",
    "    \"María\": {\"Matemáticas\": 9.5, \"Física\": 10.0, \"Programación\": 9.8},\n",
    "    \"Jorge\": {\"Matemáticas\": 8.8, \"Física\": 8.4, \"Programación\": 7.9},\n",
    "    \"Sofía\": {\"Matemáticas\": 9.1, \"Física\": 8.9, \"Programación\": 9.3}\n",
    "}\n",
    "\n",
    "def promedio_estudiantes(estudiantes):\n",
    "    return {estudiante: sum(calificaciones.values()) / len(calificaciones) for estudiante, calificaciones in estudiantes.items()}\n",
    "\n",
    "def promedio_asignaturas(estudiantes):\n",
    "    asignaturas = {}\n",
    "    for calificaciones in estudiantes.values():\n",
    "        for asignatura, nota in calificaciones.items():\n",
    "            if asignatura not in asignaturas:\n",
    "                asignaturas[asignatura] = []\n",
    "            asignaturas[asignatura].append(nota)\n",
    "    \n",
    "    return {asignatura: sum(notas) / len(notas) for asignatura, notas in asignaturas.items()}\n",
    "\n",
    "promedio_por_estudiante = promedio_estudiantes(estudiantes)\n",
    "promedio_por_asignatura = promedio_asignaturas(estudiantes)\n",
    "\n",
    "print(\"Promedio por estudiante:\")\n",
    "for estudiante, promedio in promedio_por_estudiante.items():\n",
    "    print(f\"{estudiante}: {promedio:.2f}\")\n",
    "\n",
    "print(\"\\nPromedio por asignatura:\")\n",
    "for asignatura, promedio in promedio_por_asignatura.items():\n",
    "    print(f\"{asignatura}: {promedio:.2f}\")"
   ]
  }
 ],
 "metadata": {
  "kernelspec": {
   "display_name": "Python 3",
   "language": "python",
   "name": "python3"
  },
  "language_info": {
   "codemirror_mode": {
    "name": "ipython",
    "version": 3
   },
   "file_extension": ".py",
   "mimetype": "text/x-python",
   "name": "python",
   "nbconvert_exporter": "python",
   "pygments_lexer": "ipython3",
   "version": "3.13.0"
  }
 },
 "nbformat": 4,
 "nbformat_minor": 2
}
