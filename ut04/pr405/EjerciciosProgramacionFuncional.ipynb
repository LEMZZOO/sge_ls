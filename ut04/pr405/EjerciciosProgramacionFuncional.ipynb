{
 "cells": [
  {
   "cell_type": "markdown",
   "id": "73f10116-5a46-4096-a84e-7eaed2321ac7",
   "metadata": {},
   "source": [
    "1.- Filtrado de una lista de números\n",
    "Usa filter para obtener solo los números pares de una lista de enteros"
   ]
  },
  {
   "cell_type": "code",
   "execution_count": null,
   "id": "9624e0e4-4e21-4904-bb8c-82752897d818",
   "metadata": {},
   "outputs": [
    {
     "name": "stdout",
     "output_type": "stream",
     "text": [
      "[2, 4, 6, 8, 10]\n"
     ]
    }
   ],
   "source": [
    "# Ejemplo de lista de entrada\n",
    "numeros = [1, 2, 3, 4, 5, 6, 7, 8, 9, 10]\n",
    "# Resultado esperado: [2, 4, 6, 8, 10]\n",
    "\n",
    "def es_par(x):\n",
    "    return x % 2 == 0\n",
    "\n",
    "# Ejemplo de lista de entrada\n",
    "numeros = [1, 2, 3, 4, 5, 6, 7, 8, 9, 10]\n",
    "           \n",
    "pares = list(filter(es_par, numeros))\n",
    "print(pares)"
   ]
  },
  {
   "cell_type": "markdown",
   "id": "95c70b1e-d184-4ebd-99b9-b93cb85071b0",
   "metadata": {},
   "source": [
    "2.- Mapeo de temperaturas\n",
    "Dada una lista de temperaturas en Celsius, usa map para convertirlas a Fahrenheit."
   ]
  },
  {
   "cell_type": "code",
   "execution_count": 6,
   "id": "3ffda5b1-4a0c-4bf3-87aa-83767bc7b395",
   "metadata": {},
   "outputs": [
    {
     "name": "stdout",
     "output_type": "stream",
     "text": [
      "[32.0, 68.0, 98.6, 212.0]\n"
     ]
    }
   ],
   "source": [
    "# Función para convertir Celsius a Fahrenheit\n",
    "def celsius_a_fahrenheit(x):\n",
    "    return x * 9/5 + 32\n",
    "\n",
    "# Ejemplo de lista de entrada\n",
    "celsius = [0, 20, 37, 100]\n",
    "\n",
    "fahrenheit = list(map(celsius_a_fahrenheit, celsius))\n",
    "print(fahrenheit) "
   ]
  },
  {
   "cell_type": "markdown",
   "id": "73c332a7",
   "metadata": {},
   "source": [
    "3.- Suma acumulativa\n",
    "Utiliza reduce para obtener la suma acumulativa de una lista de números."
   ]
  },
  {
   "cell_type": "code",
   "execution_count": 10,
   "id": "9619c090-901c-4c0c-a525-a3526de505cb",
   "metadata": {},
   "outputs": [
    {
     "name": "stdout",
     "output_type": "stream",
     "text": [
      "15\n"
     ]
    }
   ],
   "source": [
    "from functools import reduce\n",
    "\n",
    "# Función para sumar dos números\n",
    "def sumar(x, y):\n",
    "    return x + y\n",
    "\n",
    "# Ejemplo de lista de entrada\n",
    "numeros = [1, 2, 3, 4, 5]\n",
    "\n",
    "suma = reduce(sumar, numeros)\n",
    "print(suma)"
   ]
  },
  {
   "cell_type": "markdown",
   "id": "885a771e",
   "metadata": {},
   "source": [
    "4.- Palabras con cierta longitud\n",
    "Dada una lista de palabras, usa filter para encontrar las que tienen más de cinco letras y luego map para convertirlas en mayúsculas."
   ]
  },
  {
   "cell_type": "code",
   "execution_count": 11,
   "id": "98487f13-ae86-414a-9398-93b235643286",
   "metadata": {},
   "outputs": [
    {
     "name": "stdout",
     "output_type": "stream",
     "text": [
      "['ELEFANTE', 'JIRAFA']\n"
     ]
    }
   ],
   "source": [
    "# Función para verificar longitud de palabra\n",
    "def mas_de_cinco_letras(palabra):\n",
    "    return len(palabra) > 5\n",
    "\n",
    "# Función para convertir a mayúsculas\n",
    "def convertir_a_mayusculas(palabra):\n",
    "    return palabra.upper()\n",
    "\n",
    "# Ejemplo de lista de entrada\n",
    "palabras = [\"perro\", \"gato\", \"elefante\", \"oso\", \"jirafa\"]\n",
    "\n",
    "#convierto en majusculas las que tengan mas de 5 letras\n",
    "palabras_filtradas = list(map(convertir_a_mayusculas, filter(mas_de_cinco_letras, palabras)))\n",
    "print(palabras_filtradas)"
   ]
  },
  {
   "cell_type": "markdown",
   "id": "2ded8c78",
   "metadata": {},
   "source": [
    "5.- Multiplicación de pares\n",
    "Dada una lista de números, utiliza filter, map y reduce para obtener el producto de los números pares."
   ]
  },
  {
   "cell_type": "code",
   "execution_count": 13,
   "id": "e76f2def-ddb2-410f-8b2a-52c2373d854b",
   "metadata": {},
   "outputs": [
    {
     "name": "stdout",
     "output_type": "stream",
     "text": [
      "48\n"
     ]
    }
   ],
   "source": [
    "from functools import reduce\n",
    "\n",
    "# Función para verificar si un número es par\n",
    "def es_par(x):\n",
    "    return x % 2 == 0\n",
    "\n",
    "# Función para multiplicar dos números\n",
    "def multiplicar(x, y):\n",
    "    return x * y\n",
    "\n",
    "# Ejemplo de lista de entrada\n",
    "numeros = [1, 2, 3, 4, 5, 6]\n",
    "\n",
    "#multiplico los que sean pares uno tras otro con reduce\n",
    "producto = reduce(multiplicar, filter(es_par, numeros))\n",
    "print(producto)  # Resultado esperado: 48 (producto de 2, 4 y 6)"
   ]
  },
  {
   "cell_type": "code",
   "execution_count": null,
   "id": "f70a94b9-6d13-477e-bd34-831eb4ab352c",
   "metadata": {},
   "outputs": [],
   "source": [
    "6.- Combinar operaciones en listas anidadas\n",
    "Dada una lista de listas de enteros, usa map, filter, y reduce para obtener la suma de todos los números positivos."
   ]
  },
  {
   "cell_type": "code",
   "execution_count": 14,
   "id": "969697d0-0054-41da-9fed-a35dfc08d596",
   "metadata": {},
   "outputs": [
    {
     "name": "stdout",
     "output_type": "stream",
     "text": [
      "30\n"
     ]
    }
   ],
   "source": [
    "# Función para verificar si un número es positivo\n",
    "def es_positivo(x):\n",
    "    return x > 0\n",
    "\n",
    "# Ejemplo de lista de entrada\n",
    "numeros = [[-3, 2, 7], [10, -5, 3], [0, 8, -2]]\n",
    "# Solución usando una comprensión para filtrar positivos\n",
    "positivos = sum([num for sublist in numeros for num in sublist if es_positivo(num)])\n",
    "print(positivos)  # Resultado esperado: 30 (suma de 2, 7, 10, 3, y 8)"
   ]
  },
  {
   "cell_type": "code",
   "execution_count": null,
   "id": "2d155cbf-612f-4a44-ac6b-e88f15aa9f61",
   "metadata": {},
   "outputs": [],
   "source": [
    "7.- Frecuencia de palabras\n",
    "Dado un texto, crea una función que use map y reduce para obtener la frecuencia de cada palabra. Ignora las mayúsculas y minúsculas y supón que no hay símbolos de puntuación."
   ]
  },
  {
   "cell_type": "code",
   "execution_count": 15,
   "id": "2ec9c8c3-41e7-4e80-bd0b-6308c7a02f29",
   "metadata": {},
   "outputs": [
    {
     "name": "stdout",
     "output_type": "stream",
     "text": [
      "{'hola': 2, 'mundo': 2, 'cruel': 1}\n"
     ]
    }
   ],
   "source": [
    "from functools import reduce\n",
    "\n",
    "# Función para actualizar el diccionario de frecuencia\n",
    "def actualizar_frecuencia(diccionario, palabra):\n",
    "    diccionario[palabra] = diccionario.get(palabra, 0) + 1\n",
    "    return diccionario\n",
    "\n",
    "# Ejemplo de texto de entrada\n",
    "texto = \"Hola hola mundo mundo cruel\"\n",
    "# Solución\n",
    "palabras = texto.lower().split()\n",
    "frecuencia = reduce(actualizar_frecuencia, palabras, {})\n",
    "print(frecuencia)  # Resultado esperado: {'hola': 2, 'mundo': 2, 'cruel': 1}"
   ]
  },
  {
   "cell_type": "code",
   "execution_count": null,
   "id": "8e5718bf-a60d-4c61-a8aa-cac87b1978b8",
   "metadata": {},
   "outputs": [],
   "source": [
    "8.- Intersección de conjuntos\n",
    "Dadas dos listas de números, usa filter para obtener una lista de los elementos que están en ambas listas (sin usar conjuntos)."
   ]
  },
  {
   "cell_type": "code",
   "execution_count": null,
   "id": "484d8b64-53f5-47cf-a6ae-a71b71da7316",
   "metadata": {},
   "outputs": [],
   "source": [
    "# Función para verificar si un número está en la segunda lista\n",
    "def en_lista2(x):\n",
    "    return x in lista2\n",
    "\n",
    "# Ejemplo de listas de entrada\n",
    "lista1 = [1, 2, 3, 4, 5]\n",
    "lista2 = [3, 4, 5, 6, 7]\n",
    "# Solución\n",
    "interseccion = list(filter(en_lista2, lista1))\n",
    "print(interseccion)  # Resultado esperado: [3, 4, 5]"
   ]
  },
  {
   "cell_type": "code",
   "execution_count": null,
   "id": "bdb51ca0-ed3d-4117-b3be-f4b6e95c9d61",
   "metadata": {},
   "outputs": [],
   "source": [
    "9.- Agrupación de palabras por longitud\n",
    "Dada una lista de palabras, crea un diccionario donde la clave es la longitud de la palabra y el valor es una lista de palabras de esa longitud. Usa map y filter."
   ]
  },
  {
   "cell_type": "code",
   "execution_count": null,
   "id": "bb4bda19-6636-40f7-b5c8-207bb9e4a156",
   "metadata": {},
   "outputs": [],
   "source": [
    "from functools import reduce\n",
    "\n",
    "# Función para agrupar palabras por longitud\n",
    "def agrupar_por_longitud(diccionario, palabra):\n",
    "    longitud = len(palabra)\n",
    "    if longitud in diccionario:\n",
    "        diccionario[longitud].append(palabra)\n",
    "    else:\n",
    "        diccionario[longitud] = [palabra]\n",
    "    return diccionario\n",
    "\n",
    "# Ejemplo de lista de entrada\n",
    "palabras = [\"sol\", \"luna\", \"estrella\", \"cielo\", \"mar\"]\n",
    "# Solución\n",
    "agrupadas = reduce(agrupar_por_longitud, palabras, {})\n",
    "print(agrupadas)  # Resultado esperado: {3: ['sol', 'mar'], 4: ['luna', 'cielo'], 8: ['estrella']}"
   ]
  },
  {
   "cell_type": "code",
   "execution_count": null,
   "id": "8877a14c-39a4-46e6-bdfb-88789c987f6a",
   "metadata": {},
   "outputs": [],
   "source": [
    "10.- Concatenación de listas de caracteres\n",
    "Dadas dos listas de caracteres, usa reduce para concatenarlas en una sola lista sin utilizar + o métodos de concatenación."
   ]
  },
  {
   "cell_type": "code",
   "execution_count": null,
   "id": "1b93dfae-bc8d-4259-8d0b-fc399c68b35c",
   "metadata": {},
   "outputs": [],
   "source": [
    "from functools import reduce\n",
    "\n",
    "# Función para concatenar dos listas de caracteres usando `extend` en lugar de `+`\n",
    "def concatenar_listas(lista1, lista2):\n",
    "    return reduce(lambda acc, elem: acc.extend(elem) or acc, [lista1, lista2], [])\n",
    "\n",
    "# Ejemplo de listas de caracteres\n",
    "lista1 = ['a', 'b', 'c']\n",
    "lista2 = ['d', 'e', 'f']\n",
    "\n",
    "# Concatenación de listas\n",
    "resultado = concatenar_listas(lista1, lista2)\n",
    "print(resultado)  # Resultado esperado: ['a', 'b', 'c', 'd', 'e', 'f']\n"
   ]
  },
  {
   "cell_type": "code",
   "execution_count": null,
   "id": "23898c24-8498-4213-9daf-1e8052a27169",
   "metadata": {},
   "outputs": [],
   "source": [
    "11.- Calificación de alumnos\n",
    "Dada una lista de tuplas con el nombre del alumno y su calificación, utiliza map y filter para obtener una lista con los nombres de los alumnos que han aprobado (nota >= 5)."
   ]
  },
  {
   "cell_type": "code",
   "execution_count": null,
   "id": "8a78e419-00a0-4f4d-8719-17861ede30c0",
   "metadata": {},
   "outputs": [],
   "source": [
    "# Ejemplo de lista de entrada\n",
    "alumnos = [(\"Ana\", 4), (\"Luis\", 7), (\"Marta\", 5), (\"Juan\", 3), (\"Elena\", 8)]\n",
    "\n",
    "# Función para verificar si el alumno ha aprobado\n",
    "def ha_aprobado(alumno):\n",
    "    return alumno[1] >= 5\n",
    "\n",
    "# Función para obtener solo el nombre del alumno\n",
    "def obtener_nombre(alumno):\n",
    "    return alumno[0]\n",
    "\n",
    "# Filtramos los alumnos que han aprobado y extraemos sus nombres\n",
    "aprobados = list(map(obtener_nombre, filter(ha_aprobado, alumnos)))\n",
    "print(aprobados)  # Resultado esperado: ['Luis', 'Marta', 'Elena']"
   ]
  }
 ],
 "metadata": {
  "kernelspec": {
   "display_name": "Python 3 (ipykernel)",
   "language": "python",
   "name": "python3"
  },
  "language_info": {
   "codemirror_mode": {
    "name": "ipython",
    "version": 3
   },
   "file_extension": ".py",
   "mimetype": "text/x-python",
   "name": "python",
   "nbconvert_exporter": "python",
   "pygments_lexer": "ipython3",
   "version": "3.11.6"
  }
 },
 "nbformat": 4,
 "nbformat_minor": 5
}
